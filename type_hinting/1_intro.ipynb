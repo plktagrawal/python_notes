{
 "cells": [
  {
   "cell_type": "code",
   "execution_count": 5,
   "metadata": {},
   "outputs": [
    {
     "name": "stdout",
     "output_type": "stream",
     "text": [
      "5\n",
      "[1, 2, 's']\n",
      "[1, 2, 3]\n",
      "[1, 2, 'womania']\n"
     ]
    }
   ],
   "source": [
    "class A:\n",
    "    x : int\n",
    "    y : [] # list of any data type, of any length\n",
    "    z: [int, ...] # list of integers, of any length\n",
    "    w: [int, int, str] # list of 3 items of specific types\n",
    "\n",
    "a = A()\n",
    "\n",
    "a.x = 5\n",
    "a.y = [1,2,'s']\n",
    "a.z = [1,2,3]\n",
    "a.w = [1,2,\"womania\"]\n",
    "\n",
    "print(a.x)\n",
    "print(a.y)\n",
    "print(a.z)\n",
    "print(a.w)"
   ]
  },
  {
   "cell_type": "markdown",
   "metadata": {},
   "source": [
    "continuing from previous example\n",
    "here are some assignements which will lead to errors"
   ]
  },
  {
   "cell_type": "code",
   "execution_count": 7,
   "metadata": {},
   "outputs": [
    {
     "name": "stdout",
     "output_type": "stream",
     "text": [
      "[1, 2, 3, 's']\n",
      "[1, 2, 'womania']\n"
     ]
    }
   ],
   "source": [
    "a.z = [1,2,3,'s']\n",
    "print(a.z)\n",
    "print(a.w)"
   ]
  },
  {
   "cell_type": "code",
   "execution_count": 8,
   "metadata": {},
   "outputs": [
    {
     "name": "stdout",
     "output_type": "stream",
     "text": [
      "['s', 'f', 'g']\n"
     ]
    }
   ],
   "source": [
    "a.w = ['s','f','g']\n",
    "print(a.w)"
   ]
  },
  {
   "cell_type": "markdown",
   "metadata": {},
   "source": [
    "WHY IS THE CODE WORKING???\n",
    "\n",
    "It turns out Python does not raise errors at runtime. Type hinting is a soft control. To see its benefits install `mypy` and runs `mypy <filename.py>`\n",
    "\n",
    "Then it will tell you about errors.\n",
    "\n",
    "And ellipses don't seem to work. You will have to import `List`, `Tuple` and `Any` from the `typing` module"
   ]
  },
  {
   "cell_type": "markdown",
   "metadata": {},
   "source": [
    "from typing import List, Any, Tuple\n",
    "\n",
    "\n",
    "class A:\n",
    "    x: int\n",
    "    y: List[Any]  # list of any data type, of any length\n",
    "    z: List[int]  # list of integers, of any length\n",
    "    w: Tuple[int, int, str]  # list of 3 items of specific types\n",
    "\n",
    "\n",
    "a = A()\n",
    "\n",
    "a.x = 5\n",
    "a.y = [1, 2, \"s\"]\n",
    "a.z = [1, 2, 3]\n",
    "#a.w = [1, 2, \"womania\"]\n",
    "\n",
    "\n",
    "# a.z = [1, 2, 3, \"s\"]\n",
    "a.w = (\"s\", \"f\", \"g\")\n",
    "\n",
    "print(a.x)\n",
    "print(a.y)\n",
    "print(a.z)\n",
    "print(a.w)\n"
   ]
  }
 ],
 "metadata": {
  "kernelspec": {
   "display_name": "crm",
   "language": "python",
   "name": "python3"
  },
  "language_info": {
   "codemirror_mode": {
    "name": "ipython",
    "version": 3
   },
   "file_extension": ".py",
   "mimetype": "text/x-python",
   "name": "python",
   "nbconvert_exporter": "python",
   "pygments_lexer": "ipython3",
   "version": "3.12.3"
  }
 },
 "nbformat": 4,
 "nbformat_minor": 2
}
