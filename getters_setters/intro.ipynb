{
 "cells": [
  {
   "cell_type": "code",
   "execution_count": 2,
   "metadata": {},
   "outputs": [
    {
     "name": "stdout",
     "output_type": "stream",
     "text": [
      "setter: setting x to 10\n",
      "10\n",
      "deleter: deleting x\n"
     ]
    }
   ],
   "source": [
    "class ABC:\n",
    "\n",
    "    # getters are simply properties\n",
    "    @property\n",
    "    def x(self):\n",
    "        return self._x\n",
    "\n",
    "    @x.setter\n",
    "    def x(self, value):\n",
    "        print(\"setter: setting x to {}\".format(value))\n",
    "        self._x = value\n",
    "\n",
    "    @x.deleter\n",
    "    def x(self):\n",
    "        print(\"deleter: deleting x\")\n",
    "        del self._x\n",
    "\n",
    "abc = ABC()\n",
    "abc.x = 10\n",
    "print(abc.x)\n",
    "del abc.x\n",
    "    "
   ]
  },
  {
   "cell_type": "markdown",
   "metadata": {},
   "source": [
    "Setter and deleter functions have the sav=me name as the propoerty. Let us test if we can change the names."
   ]
  },
  {
   "cell_type": "code",
   "execution_count": 3,
   "metadata": {},
   "outputs": [
    {
     "ename": "AttributeError",
     "evalue": "property 'x' of 'ABC' object has no setter",
     "output_type": "error",
     "traceback": [
      "\u001b[0;31m---------------------------------------------------------------------------\u001b[0m",
      "\u001b[0;31mAttributeError\u001b[0m                            Traceback (most recent call last)",
      "Cell \u001b[0;32mIn[3], line 19\u001b[0m\n\u001b[1;32m     16\u001b[0m         \u001b[38;5;28;01mdel\u001b[39;00m \u001b[38;5;28mself\u001b[39m\u001b[38;5;241m.\u001b[39m_x\n\u001b[1;32m     18\u001b[0m abc \u001b[38;5;241m=\u001b[39m ABC()\n\u001b[0;32m---> 19\u001b[0m \u001b[43mabc\u001b[49m\u001b[38;5;241;43m.\u001b[39;49m\u001b[43mx\u001b[49m \u001b[38;5;241m=\u001b[39m \u001b[38;5;241m10\u001b[39m\n\u001b[1;32m     20\u001b[0m \u001b[38;5;28mprint\u001b[39m(abc\u001b[38;5;241m.\u001b[39mx)\n\u001b[1;32m     21\u001b[0m \u001b[38;5;28;01mdel\u001b[39;00m abc\u001b[38;5;241m.\u001b[39mx\n",
      "\u001b[0;31mAttributeError\u001b[0m: property 'x' of 'ABC' object has no setter"
     ]
    }
   ],
   "source": [
    "class ABC:\n",
    "\n",
    "    # getters are simply properties\n",
    "    @property\n",
    "    def x(self):\n",
    "        return self._x\n",
    "\n",
    "    @x.setter\n",
    "    def tyutyu(self, value): # changed name of method\n",
    "        print(\"setter: setting x to {}\".format(value))\n",
    "        self._x = value\n",
    "\n",
    "    @x.deleter\n",
    "    def x(self):\n",
    "        print(\"deleter: deleting x\")\n",
    "        del self._x\n",
    "\n",
    "abc = ABC()\n",
    "abc.x = 10\n",
    "print(abc.x)\n",
    "del abc.x"
   ]
  },
  {
   "cell_type": "markdown",
   "metadata": {},
   "source": [
    "Now lets us test the deleter"
   ]
  },
  {
   "cell_type": "code",
   "execution_count": 4,
   "metadata": {},
   "outputs": [
    {
     "name": "stdout",
     "output_type": "stream",
     "text": [
      "setter: setting x to 10\n",
      "10\n"
     ]
    },
    {
     "ename": "AttributeError",
     "evalue": "property 'x' of 'ABC' object has no deleter",
     "output_type": "error",
     "traceback": [
      "\u001b[0;31m---------------------------------------------------------------------------\u001b[0m",
      "\u001b[0;31mAttributeError\u001b[0m                            Traceback (most recent call last)",
      "Cell \u001b[0;32mIn[4], line 21\u001b[0m\n\u001b[1;32m     19\u001b[0m abc\u001b[38;5;241m.\u001b[39mx \u001b[38;5;241m=\u001b[39m \u001b[38;5;241m10\u001b[39m\n\u001b[1;32m     20\u001b[0m \u001b[38;5;28mprint\u001b[39m(abc\u001b[38;5;241m.\u001b[39mx)\n\u001b[0;32m---> 21\u001b[0m \u001b[38;5;28;01mdel\u001b[39;00m \u001b[43mabc\u001b[49m\u001b[38;5;241;43m.\u001b[39;49m\u001b[43mx\u001b[49m\n",
      "\u001b[0;31mAttributeError\u001b[0m: property 'x' of 'ABC' object has no deleter"
     ]
    }
   ],
   "source": [
    "class ABC:\n",
    "\n",
    "    # getters are simply properties\n",
    "    @property\n",
    "    def x(self):\n",
    "        return self._x\n",
    "\n",
    "    @x.setter\n",
    "    def x(self, value): \n",
    "        print(\"setter: setting x to {}\".format(value))\n",
    "        self._x = value\n",
    "\n",
    "    @x.deleter\n",
    "    def gjhg(self): # changed name of method\n",
    "        print(\"deleter: deleting x\")\n",
    "        del self._x\n",
    "\n",
    "abc = ABC()\n",
    "abc.x = 10\n",
    "print(abc.x)\n",
    "del abc.x"
   ]
  }
 ],
 "metadata": {
  "kernelspec": {
   "display_name": "crm",
   "language": "python",
   "name": "python3"
  },
  "language_info": {
   "codemirror_mode": {
    "name": "ipython",
    "version": 3
   },
   "file_extension": ".py",
   "mimetype": "text/x-python",
   "name": "python",
   "nbconvert_exporter": "python",
   "pygments_lexer": "ipython3",
   "version": "3.12.3"
  }
 },
 "nbformat": 4,
 "nbformat_minor": 2
}
