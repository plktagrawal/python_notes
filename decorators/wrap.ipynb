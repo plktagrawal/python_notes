{
 "cells": [
  {
   "cell_type": "code",
   "execution_count": 4,
   "metadata": {},
   "outputs": [
    {
     "name": "stdout",
     "output_type": "stream",
     "text": [
      "add runtime: 3.0051069259643555\n",
      "3\n"
     ]
    }
   ],
   "source": [
    "import time\n",
    "\n",
    "def timethis(func):\n",
    "    \"\"\"A decorator that times a function\"\"\"\n",
    "    def inner(*args, **kwargs):\n",
    "        start_time = time.time()\n",
    "        result = func(*args, **kwargs)\n",
    "        end_time = time.time()\n",
    "        print(f\"{func.__name__} runtime: {end_time-start_time}\")\n",
    "        return result\n",
    "    return inner\n",
    "\n",
    "@timethis\n",
    "def add(a, b):\n",
    "    \"\"\"Adds two numbers\"\"\"\n",
    "    time.sleep(3)\n",
    "    return a+b\n",
    "\n",
    "a = add(1,2)\n",
    "print(a)"
   ]
  },
  {
   "cell_type": "markdown",
   "metadata": {},
   "source": [
    "The above code runs well. But using a decorator has a downside. The meta data of the function is lost.\n",
    "\n",
    "For example, `add.__doc__` is lost even though one would expect it to return 'Adds two numbers'"
   ]
  },
  {
   "cell_type": "code",
   "execution_count": 5,
   "metadata": {},
   "outputs": [
    {
     "name": "stdout",
     "output_type": "stream",
     "text": [
      "None\n"
     ]
    }
   ],
   "source": [
    "print(add.__doc__)"
   ]
  },
  {
   "cell_type": "code",
   "execution_count": 7,
   "metadata": {},
   "outputs": [
    {
     "name": "stdout",
     "output_type": "stream",
     "text": [
      "{}\n"
     ]
    }
   ],
   "source": [
    "print(add.__annotations__) # also returns an empty dict"
   ]
  },
  {
   "cell_type": "code",
   "execution_count": 8,
   "metadata": {},
   "outputs": [
    {
     "name": "stdout",
     "output_type": "stream",
     "text": [
      "inner\n"
     ]
    }
   ],
   "source": [
    "print(add.__name__) # does not return add, instead returns inner"
   ]
  },
  {
   "cell_type": "markdown",
   "metadata": {},
   "source": [
    "TO AVOID THIS BEHAVIOR use the `wraps` decorator from the functools module"
   ]
  },
  {
   "cell_type": "code",
   "execution_count": 11,
   "metadata": {},
   "outputs": [
    {
     "name": "stdout",
     "output_type": "stream",
     "text": [
      "subtract runtime: 4.005061864852905\n",
      "11\n",
      "subtract\n",
      "{'a': <class 'int'>, 'b': <class 'int'>, 'return': <class 'int'>}\n",
      "Subtracts second number from the first\n"
     ]
    }
   ],
   "source": [
    "import time\n",
    "from functools import wraps\n",
    "\n",
    "def timethisproperly(func):\n",
    "    \"\"\"A decorator that preserves func's metadata\"\"\"\n",
    "    \n",
    "    @wraps(func)\n",
    "    def inner(*args, **kwargs):\n",
    "        start = time.time()\n",
    "        result = func(*args, **kwargs)\n",
    "        end = time.time()\n",
    "        print(f\"{func.__name__} runtime: {end-start}\")\n",
    "        return result\n",
    "    \n",
    "    return inner\n",
    "\n",
    "@timethisproperly\n",
    "def subtract(a: int, b: int) -> int:\n",
    "    \"\"\"Subtracts second number from the first\"\"\"\n",
    "    time.sleep(4)\n",
    "    return a-b\n",
    "\n",
    "\n",
    "s = subtract(34, 23)\n",
    "print(s)\n",
    "\n",
    "print(subtract.__name__)\n",
    "print(subtract.__annotations__)\n",
    "print(subtract.__doc__)"
   ]
  }
 ],
 "metadata": {
  "kernelspec": {
   "display_name": "crm",
   "language": "python",
   "name": "python3"
  },
  "language_info": {
   "codemirror_mode": {
    "name": "ipython",
    "version": 3
   },
   "file_extension": ".py",
   "mimetype": "text/x-python",
   "name": "python",
   "nbconvert_exporter": "python",
   "pygments_lexer": "ipython3",
   "version": "3.12.3"
  }
 },
 "nbformat": 4,
 "nbformat_minor": 2
}
