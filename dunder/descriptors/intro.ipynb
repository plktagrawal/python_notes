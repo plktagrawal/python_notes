{
 "cells": [
  {
   "cell_type": "markdown",
   "metadata": {},
   "source": [
    "Descriptors allow a class member to be dynamic"
   ]
  },
  {
   "cell_type": "code",
   "execution_count": 7,
   "metadata": {},
   "outputs": [
    {
     "name": "stdout",
     "output_type": "stream",
     "text": [
      "<__main__.Animal object at 0x10614dbe0>\n"
     ]
    }
   ],
   "source": [
    "class Animal:\n",
    "    def __get__(self):\n",
    "        return 10\n",
    "\n",
    "animal = Animal()\n",
    "print(animal)\n"
   ]
  },
  {
   "cell_type": "code",
   "execution_count": 8,
   "metadata": {},
   "outputs": [
    {
     "ename": "TypeError",
     "evalue": "Animal.__get__() takes 1 positional argument but 3 were given",
     "output_type": "error",
     "traceback": [
      "\u001b[0;31m---------------------------------------------------------------------------\u001b[0m",
      "\u001b[0;31mTypeError\u001b[0m                                 Traceback (most recent call last)",
      "Cell \u001b[0;32mIn[8], line 9\u001b[0m\n\u001b[1;32m      7\u001b[0m a \u001b[38;5;241m=\u001b[39m ABC()\n\u001b[1;32m      8\u001b[0m a\u001b[38;5;241m.\u001b[39mx\n\u001b[0;32m----> 9\u001b[0m \u001b[43ma\u001b[49m\u001b[38;5;241;43m.\u001b[39;49m\u001b[43my\u001b[49m\n",
      "\u001b[0;31mTypeError\u001b[0m: Animal.__get__() takes 1 positional argument but 3 were given"
     ]
    }
   ],
   "source": [
    "# continuing from the previous block\n",
    "\n",
    "class ABC:\n",
    "    x = 5\n",
    "    y = Animal()\n",
    "\n",
    "a = ABC()\n",
    "a.x\n",
    "a.y"
   ]
  },
  {
   "cell_type": "markdown",
   "metadata": {},
   "source": [
    "Let us alter the definition of Animal as per the docs"
   ]
  },
  {
   "cell_type": "code",
   "execution_count": 9,
   "metadata": {},
   "outputs": [
    {
     "name": "stdout",
     "output_type": "stream",
     "text": [
      "5\n",
      "10\n"
     ]
    }
   ],
   "source": [
    "class Animal:\n",
    "    def __get__(self, obj, objType=None): # added new parameters\n",
    "        return 10\n",
    "\n",
    "class ABC:\n",
    "    x = 5\n",
    "    y = Animal()\n",
    "\n",
    "a = ABC()\n",
    "\n",
    "print(a.x)\n",
    "print(a.y)"
   ]
  }
 ],
 "metadata": {
  "kernelspec": {
   "display_name": "crm",
   "language": "python",
   "name": "python3"
  },
  "language_info": {
   "codemirror_mode": {
    "name": "ipython",
    "version": 3
   },
   "file_extension": ".py",
   "mimetype": "text/x-python",
   "name": "python",
   "nbconvert_exporter": "python",
   "pygments_lexer": "ipython3",
   "version": "3.12.3"
  }
 },
 "nbformat": 4,
 "nbformat_minor": 2
}
