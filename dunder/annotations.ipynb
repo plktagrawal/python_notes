{
 "cells": [
  {
   "cell_type": "code",
   "execution_count": 1,
   "metadata": {},
   "outputs": [
    {
     "name": "stdout",
     "output_type": "stream",
     "text": [
      "{}\n"
     ]
    }
   ],
   "source": [
    "def subtract(a, b): # function has no type hints\n",
    "    \"\"\"Subtracts second number from the first\"\"\"\n",
    "    return a-b\n",
    "\n",
    "print(subtract.__annotations__) # will print an empty dict"
   ]
  },
  {
   "cell_type": "code",
   "execution_count": 2,
   "metadata": {},
   "outputs": [
    {
     "name": "stdout",
     "output_type": "stream",
     "text": [
      "{'a': <class 'int'>, 'b': <class 'int'>, 'return': <class 'int'>}\n"
     ]
    }
   ],
   "source": [
    "def subtract(a: int, b: int) -> int: # with type hints\n",
    "    \"\"\"Subtracts second number from the first\"\"\"\n",
    "    return a-b\n",
    "\n",
    "print(subtract.__annotations__) #will show type hint info as annotations\n"
   ]
  }
 ],
 "metadata": {
  "kernelspec": {
   "display_name": "crm",
   "language": "python",
   "name": "python3"
  },
  "language_info": {
   "codemirror_mode": {
    "name": "ipython",
    "version": 3
   },
   "file_extension": ".py",
   "mimetype": "text/x-python",
   "name": "python",
   "nbconvert_exporter": "python",
   "pygments_lexer": "ipython3",
   "version": "3.12.3"
  }
 },
 "nbformat": 4,
 "nbformat_minor": 2
}
